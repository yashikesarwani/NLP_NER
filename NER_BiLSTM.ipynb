{
  "nbformat": 4,
  "nbformat_minor": 0,
  "metadata": {
    "colab": {
      "name": "NER_BiLSTM.ipynb",
      "provenance": [],
      "collapsed_sections": [],
      "mount_file_id": "1CkmXaxL7HGH3h6p036tcowtMq4aFd2_j",
      "authorship_tag": "ABX9TyPQ/9OzkJfsgKkcHHb0fBjZ",
      "include_colab_link": true
    },
    "kernelspec": {
      "name": "python3",
      "display_name": "Python 3"
    }
  },
  "cells": [
    {
      "cell_type": "markdown",
      "metadata": {
        "id": "view-in-github",
        "colab_type": "text"
      },
      "source": [
        "<a href=\"https://colab.research.google.com/github/yashikesarwani/NLP_NER/blob/master/NER_BiLSTM.ipynb\" target=\"_parent\"><img src=\"https://colab.research.google.com/assets/colab-badge.svg\" alt=\"Open In Colab\"/></a>"
      ]
    },
    {
      "cell_type": "code",
      "metadata": {
        "id": "ybg_Hkf6MOv_",
        "colab_type": "code",
        "colab": {}
      },
      "source": [
        "# Dataset used (ner_dataset.csv)-> Annotated Corpus for Named Entity Recognition\n",
        "# Feature Engineered Corpus annotated with IOB and POS tags"
      ],
      "execution_count": 1,
      "outputs": []
    },
    {
      "cell_type": "markdown",
      "metadata": {
        "id": "hPaOGr0mMHgR",
        "colab_type": "text"
      },
      "source": [
        "### Dataset Description\n",
        "geo = Geographical Entity <br>\n",
        "org = Organization <br>\n",
        "per = Person <br>\n",
        "gpe = Geopolitical Entity <br>\n",
        "tim = Time indicator <br>\n",
        "art = Artifact <br>\n",
        "eve = Event <br>\n",
        "nat = Natural Phenomenon <br>\n",
        "</br></br>\n",
        "<b>Observations :</b> <br>\n",
        "1. There are total 47959 sentences in the dataset. <br>\n",
        "2. Total Words Count = 1048575 <br>\n",
        "3. Target Data Column: Tag <br>\n",
        "4. Number unique words in the dataset are 35178. <br>\n",
        "5. Total 17 lables (Tags). <br>\n",
        "\n",
        "  "
      ]
    },
    {
      "cell_type": "markdown",
      "metadata": {
        "id": "vN8CgLOhymWT",
        "colab_type": "text"
      },
      "source": [
        "#### Installing Requirements"
      ]
    },
    {
      "cell_type": "code",
      "metadata": {
        "id": "NVweSUHhylE3",
        "colab_type": "code",
        "colab": {
          "base_uri": "https://localhost:8080/",
          "height": 221
        },
        "outputId": "758e5323-779c-4ca3-b144-6c27d0d55baf"
      },
      "source": [
        "!pip install seqeval\n",
        "!pip install sklearn_crfsuite"
      ],
      "execution_count": 2,
      "outputs": [
        {
          "output_type": "stream",
          "text": [
            "Requirement already satisfied: seqeval in /usr/local/lib/python3.6/dist-packages (0.0.12)\n",
            "Requirement already satisfied: numpy>=1.14.0 in /usr/local/lib/python3.6/dist-packages (from seqeval) (1.18.5)\n",
            "Requirement already satisfied: Keras>=2.2.4 in /usr/local/lib/python3.6/dist-packages (from seqeval) (2.4.3)\n",
            "Requirement already satisfied: scipy>=0.14 in /usr/local/lib/python3.6/dist-packages (from Keras>=2.2.4->seqeval) (1.4.1)\n",
            "Requirement already satisfied: h5py in /usr/local/lib/python3.6/dist-packages (from Keras>=2.2.4->seqeval) (2.10.0)\n",
            "Requirement already satisfied: pyyaml in /usr/local/lib/python3.6/dist-packages (from Keras>=2.2.4->seqeval) (3.13)\n",
            "Requirement already satisfied: six in /usr/local/lib/python3.6/dist-packages (from h5py->Keras>=2.2.4->seqeval) (1.15.0)\n",
            "Requirement already satisfied: sklearn_crfsuite in /usr/local/lib/python3.6/dist-packages (0.3.6)\n",
            "Requirement already satisfied: python-crfsuite>=0.8.3 in /usr/local/lib/python3.6/dist-packages (from sklearn_crfsuite) (0.9.7)\n",
            "Requirement already satisfied: tabulate in /usr/local/lib/python3.6/dist-packages (from sklearn_crfsuite) (0.8.7)\n",
            "Requirement already satisfied: tqdm>=2.0 in /usr/local/lib/python3.6/dist-packages (from sklearn_crfsuite) (4.41.1)\n",
            "Requirement already satisfied: six in /usr/local/lib/python3.6/dist-packages (from sklearn_crfsuite) (1.15.0)\n"
          ],
          "name": "stdout"
        }
      ]
    },
    {
      "cell_type": "markdown",
      "metadata": {
        "id": "FYiOO4dn2HG6",
        "colab_type": "text"
      },
      "source": [
        "### Importing Libraries"
      ]
    },
    {
      "cell_type": "code",
      "metadata": {
        "id": "rppUosrEygT1",
        "colab_type": "code",
        "colab": {}
      },
      "source": [
        "import pandas as pd\n",
        "import numpy as np\n",
        "import json   \n",
        "import tensorflow as tf\n",
        "from tensorflow import keras\n",
        "\n",
        "from keras.preprocessing.sequence import pad_sequences\n",
        "from keras.utils import to_categorical\n",
        "from keras.layers import LSTM, Dense, TimeDistributed, Embedding, Bidirectional, Dropout\n",
        "from keras.models import Model, Input\n",
        "from keras.callbacks import ModelCheckpoint\n",
        "\n",
        "import warnings\n",
        "warnings.filterwarnings(\"ignore\")\n",
        "\n",
        "from sklearn.model_selection import train_test_split\n",
        "from seqeval.metrics import precision_score, recall_score, f1_score, classification_report\n",
        "from sklearn_crfsuite.metrics import flat_classification_report\n",
        "import matplotlib.pyplot as plt\n",
        "%matplotlib inline\n",
        "\n",
        "from keras.preprocessing.text import text_to_word_sequence"
      ],
      "execution_count": 3,
      "outputs": []
    },
    {
      "cell_type": "markdown",
      "metadata": {
        "id": "pH1k6nIHyjeU",
        "colab_type": "text"
      },
      "source": [
        "### Reading and Exploring Dataset"
      ]
    },
    {
      "cell_type": "code",
      "metadata": {
        "id": "n-LCKsUsMYXm",
        "colab_type": "code",
        "colab": {}
      },
      "source": [
        "#Reading the csv file\n",
        "df = pd.read_csv('/content/drive/My Drive/Edureka ML/NLP from Machine Learning University/NER/ner_dataset.csv', encoding = \"ISO-8859-1\")"
      ],
      "execution_count": 4,
      "outputs": []
    },
    {
      "cell_type": "code",
      "metadata": {
        "id": "SVKul7elMgB6",
        "colab_type": "code",
        "colab": {
          "base_uri": "https://localhost:8080/",
          "height": 204
        },
        "outputId": "a8d50a83-f3b5-4b61-d2d1-194b21ac62fe"
      },
      "source": [
        "#Display first 5 rows\n",
        "df.head(5)"
      ],
      "execution_count": 5,
      "outputs": [
        {
          "output_type": "execute_result",
          "data": {
            "text/html": [
              "<div>\n",
              "<style scoped>\n",
              "    .dataframe tbody tr th:only-of-type {\n",
              "        vertical-align: middle;\n",
              "    }\n",
              "\n",
              "    .dataframe tbody tr th {\n",
              "        vertical-align: top;\n",
              "    }\n",
              "\n",
              "    .dataframe thead th {\n",
              "        text-align: right;\n",
              "    }\n",
              "</style>\n",
              "<table border=\"1\" class=\"dataframe\">\n",
              "  <thead>\n",
              "    <tr style=\"text-align: right;\">\n",
              "      <th></th>\n",
              "      <th>Sentence #</th>\n",
              "      <th>Word</th>\n",
              "      <th>POS</th>\n",
              "      <th>Tag</th>\n",
              "    </tr>\n",
              "  </thead>\n",
              "  <tbody>\n",
              "    <tr>\n",
              "      <th>0</th>\n",
              "      <td>Sentence: 1</td>\n",
              "      <td>Thousands</td>\n",
              "      <td>NNS</td>\n",
              "      <td>O</td>\n",
              "    </tr>\n",
              "    <tr>\n",
              "      <th>1</th>\n",
              "      <td>NaN</td>\n",
              "      <td>of</td>\n",
              "      <td>IN</td>\n",
              "      <td>O</td>\n",
              "    </tr>\n",
              "    <tr>\n",
              "      <th>2</th>\n",
              "      <td>NaN</td>\n",
              "      <td>demonstrators</td>\n",
              "      <td>NNS</td>\n",
              "      <td>O</td>\n",
              "    </tr>\n",
              "    <tr>\n",
              "      <th>3</th>\n",
              "      <td>NaN</td>\n",
              "      <td>have</td>\n",
              "      <td>VBP</td>\n",
              "      <td>O</td>\n",
              "    </tr>\n",
              "    <tr>\n",
              "      <th>4</th>\n",
              "      <td>NaN</td>\n",
              "      <td>marched</td>\n",
              "      <td>VBN</td>\n",
              "      <td>O</td>\n",
              "    </tr>\n",
              "  </tbody>\n",
              "</table>\n",
              "</div>"
            ],
            "text/plain": [
              "    Sentence #           Word  POS Tag\n",
              "0  Sentence: 1      Thousands  NNS   O\n",
              "1          NaN             of   IN   O\n",
              "2          NaN  demonstrators  NNS   O\n",
              "3          NaN           have  VBP   O\n",
              "4          NaN        marched  VBN   O"
            ]
          },
          "metadata": {
            "tags": []
          },
          "execution_count": 5
        }
      ]
    },
    {
      "cell_type": "code",
      "metadata": {
        "id": "JdMSl8tKMjPd",
        "colab_type": "code",
        "colab": {
          "base_uri": "https://localhost:8080/",
          "height": 173
        },
        "outputId": "8e511fd4-dd88-4cd4-973e-de5a25bfc7b1"
      },
      "source": [
        "# Exploring the dataset\n",
        "df.describe()"
      ],
      "execution_count": 6,
      "outputs": [
        {
          "output_type": "execute_result",
          "data": {
            "text/html": [
              "<div>\n",
              "<style scoped>\n",
              "    .dataframe tbody tr th:only-of-type {\n",
              "        vertical-align: middle;\n",
              "    }\n",
              "\n",
              "    .dataframe tbody tr th {\n",
              "        vertical-align: top;\n",
              "    }\n",
              "\n",
              "    .dataframe thead th {\n",
              "        text-align: right;\n",
              "    }\n",
              "</style>\n",
              "<table border=\"1\" class=\"dataframe\">\n",
              "  <thead>\n",
              "    <tr style=\"text-align: right;\">\n",
              "      <th></th>\n",
              "      <th>Sentence #</th>\n",
              "      <th>Word</th>\n",
              "      <th>POS</th>\n",
              "      <th>Tag</th>\n",
              "    </tr>\n",
              "  </thead>\n",
              "  <tbody>\n",
              "    <tr>\n",
              "      <th>count</th>\n",
              "      <td>47959</td>\n",
              "      <td>1048575</td>\n",
              "      <td>1048575</td>\n",
              "      <td>1048575</td>\n",
              "    </tr>\n",
              "    <tr>\n",
              "      <th>unique</th>\n",
              "      <td>47959</td>\n",
              "      <td>35178</td>\n",
              "      <td>42</td>\n",
              "      <td>17</td>\n",
              "    </tr>\n",
              "    <tr>\n",
              "      <th>top</th>\n",
              "      <td>Sentence: 42398</td>\n",
              "      <td>the</td>\n",
              "      <td>NN</td>\n",
              "      <td>O</td>\n",
              "    </tr>\n",
              "    <tr>\n",
              "      <th>freq</th>\n",
              "      <td>1</td>\n",
              "      <td>52573</td>\n",
              "      <td>145807</td>\n",
              "      <td>887908</td>\n",
              "    </tr>\n",
              "  </tbody>\n",
              "</table>\n",
              "</div>"
            ],
            "text/plain": [
              "             Sentence #     Word      POS      Tag\n",
              "count             47959  1048575  1048575  1048575\n",
              "unique            47959    35178       42       17\n",
              "top     Sentence: 42398      the       NN        O\n",
              "freq                  1    52573   145807   887908"
            ]
          },
          "metadata": {
            "tags": []
          },
          "execution_count": 6
        }
      ]
    },
    {
      "cell_type": "code",
      "metadata": {
        "id": "WFza9BHnMl2r",
        "colab_type": "code",
        "colab": {
          "base_uri": "https://localhost:8080/",
          "height": 68
        },
        "outputId": "34619db8-bd39-4577-a87c-2fb7b4726230"
      },
      "source": [
        "# Displaying the unique Tags\n",
        "df['Tag'].unique()"
      ],
      "execution_count": 7,
      "outputs": [
        {
          "output_type": "execute_result",
          "data": {
            "text/plain": [
              "array(['O', 'B-geo', 'B-gpe', 'B-per', 'I-geo', 'B-org', 'I-org', 'B-tim',\n",
              "       'B-art', 'I-art', 'I-per', 'I-gpe', 'I-tim', 'B-nat', 'B-eve',\n",
              "       'I-eve', 'I-nat'], dtype=object)"
            ]
          },
          "metadata": {
            "tags": []
          },
          "execution_count": 7
        }
      ]
    },
    {
      "cell_type": "code",
      "metadata": {
        "id": "bcn98qWFMqLk",
        "colab_type": "code",
        "colab": {
          "base_uri": "https://localhost:8080/",
          "height": 102
        },
        "outputId": "b7c514ea-3571-414b-a8c9-2f83f0e18b5e"
      },
      "source": [
        "# Checking if there is any null values in the datset\n",
        "df.isnull().sum()"
      ],
      "execution_count": 8,
      "outputs": [
        {
          "output_type": "execute_result",
          "data": {
            "text/plain": [
              "Sentence #    1000616\n",
              "Word                0\n",
              "POS                 0\n",
              "Tag                 0\n",
              "dtype: int64"
            ]
          },
          "metadata": {
            "tags": []
          },
          "execution_count": 8
        }
      ]
    },
    {
      "cell_type": "code",
      "metadata": {
        "id": "YErvW_J8Msy1",
        "colab_type": "code",
        "colab": {
          "base_uri": "https://localhost:8080/",
          "height": 204
        },
        "outputId": "18468800-65cc-4681-c5f8-3877673363ab"
      },
      "source": [
        "# Fillin up the null values\n",
        "df = df.fillna(method = 'ffill')\n",
        "df.head(5)"
      ],
      "execution_count": 9,
      "outputs": [
        {
          "output_type": "execute_result",
          "data": {
            "text/html": [
              "<div>\n",
              "<style scoped>\n",
              "    .dataframe tbody tr th:only-of-type {\n",
              "        vertical-align: middle;\n",
              "    }\n",
              "\n",
              "    .dataframe tbody tr th {\n",
              "        vertical-align: top;\n",
              "    }\n",
              "\n",
              "    .dataframe thead th {\n",
              "        text-align: right;\n",
              "    }\n",
              "</style>\n",
              "<table border=\"1\" class=\"dataframe\">\n",
              "  <thead>\n",
              "    <tr style=\"text-align: right;\">\n",
              "      <th></th>\n",
              "      <th>Sentence #</th>\n",
              "      <th>Word</th>\n",
              "      <th>POS</th>\n",
              "      <th>Tag</th>\n",
              "    </tr>\n",
              "  </thead>\n",
              "  <tbody>\n",
              "    <tr>\n",
              "      <th>0</th>\n",
              "      <td>Sentence: 1</td>\n",
              "      <td>Thousands</td>\n",
              "      <td>NNS</td>\n",
              "      <td>O</td>\n",
              "    </tr>\n",
              "    <tr>\n",
              "      <th>1</th>\n",
              "      <td>Sentence: 1</td>\n",
              "      <td>of</td>\n",
              "      <td>IN</td>\n",
              "      <td>O</td>\n",
              "    </tr>\n",
              "    <tr>\n",
              "      <th>2</th>\n",
              "      <td>Sentence: 1</td>\n",
              "      <td>demonstrators</td>\n",
              "      <td>NNS</td>\n",
              "      <td>O</td>\n",
              "    </tr>\n",
              "    <tr>\n",
              "      <th>3</th>\n",
              "      <td>Sentence: 1</td>\n",
              "      <td>have</td>\n",
              "      <td>VBP</td>\n",
              "      <td>O</td>\n",
              "    </tr>\n",
              "    <tr>\n",
              "      <th>4</th>\n",
              "      <td>Sentence: 1</td>\n",
              "      <td>marched</td>\n",
              "      <td>VBN</td>\n",
              "      <td>O</td>\n",
              "    </tr>\n",
              "  </tbody>\n",
              "</table>\n",
              "</div>"
            ],
            "text/plain": [
              "    Sentence #           Word  POS Tag\n",
              "0  Sentence: 1      Thousands  NNS   O\n",
              "1  Sentence: 1             of   IN   O\n",
              "2  Sentence: 1  demonstrators  NNS   O\n",
              "3  Sentence: 1           have  VBP   O\n",
              "4  Sentence: 1        marched  VBN   O"
            ]
          },
          "metadata": {
            "tags": []
          },
          "execution_count": 9
        }
      ]
    },
    {
      "cell_type": "markdown",
      "metadata": {
        "id": "Vt-oHmNj2UWF",
        "colab_type": "text"
      },
      "source": [
        "### Data Preprocessing"
      ]
    },
    {
      "cell_type": "code",
      "metadata": {
        "id": "3hQlmxPWMwNJ",
        "colab_type": "code",
        "colab": {}
      },
      "source": [
        "# This is a class te get sentence. Each sentence will be list of tuples with its tag and pos.\n",
        "class sentence(object):\n",
        "  def __init__(self, df):\n",
        "    self.n_sent = 1\n",
        "    self.df = df\n",
        "    self.empty = False\n",
        "    agg = lambda s : [(w, p, t) for w, p, t in zip(s['Word'].values.tolist(),s['POS'].values.tolist(),s['Tag'].values.tolist())]\n",
        "    self.grouped = self.df.groupby(\"Sentence #\").apply(agg)\n",
        "    self.sentences = [s for s in self.grouped]\n",
        "      \n",
        "  def get_text(self):\n",
        "    try:\n",
        "      s = self.grouped['Sentence: {}'.format(self.n_sent)]\n",
        "      self.n_sent +=1\n",
        "      return s\n",
        "    except:\n",
        "      return None"
      ],
      "execution_count": 10,
      "outputs": []
    },
    {
      "cell_type": "code",
      "metadata": {
        "id": "cOiIjbbFMzJO",
        "colab_type": "code",
        "colab": {
          "base_uri": "https://localhost:8080/",
          "height": 35
        },
        "outputId": "8e3ef5e3-6a93-49c2-92c8-eba1ee52b1ce"
      },
      "source": [
        "# Displaying one full sentence\n",
        "getter = sentence(df)\n",
        "sentences = [\" \".join([s[0] for s in sent]) for sent in getter.sentences]\n",
        "sentences[0]"
      ],
      "execution_count": 11,
      "outputs": [
        {
          "output_type": "execute_result",
          "data": {
            "application/vnd.google.colaboratory.intrinsic+json": {
              "type": "string"
            },
            "text/plain": [
              "'Thousands of demonstrators have marched through London to protest the war in Iraq and demand the withdrawal of British troops from that country .'"
            ]
          },
          "metadata": {
            "tags": []
          },
          "execution_count": 11
        }
      ]
    },
    {
      "cell_type": "code",
      "metadata": {
        "id": "rTLYw8m0M21V",
        "colab_type": "code",
        "colab": {
          "base_uri": "https://localhost:8080/",
          "height": 54
        },
        "outputId": "c1c8a8f7-fe04-4b5f-b6a1-5cd4b63e9061"
      },
      "source": [
        "# sentence with its pos and tag.\n",
        "sent = getter.get_text()\n",
        "print(sent)"
      ],
      "execution_count": 12,
      "outputs": [
        {
          "output_type": "stream",
          "text": [
            "[('Thousands', 'NNS', 'O'), ('of', 'IN', 'O'), ('demonstrators', 'NNS', 'O'), ('have', 'VBP', 'O'), ('marched', 'VBN', 'O'), ('through', 'IN', 'O'), ('London', 'NNP', 'B-geo'), ('to', 'TO', 'O'), ('protest', 'VB', 'O'), ('the', 'DT', 'O'), ('war', 'NN', 'O'), ('in', 'IN', 'O'), ('Iraq', 'NNP', 'B-geo'), ('and', 'CC', 'O'), ('demand', 'VB', 'O'), ('the', 'DT', 'O'), ('withdrawal', 'NN', 'O'), ('of', 'IN', 'O'), ('British', 'JJ', 'B-gpe'), ('troops', 'NNS', 'O'), ('from', 'IN', 'O'), ('that', 'DT', 'O'), ('country', 'NN', 'O'), ('.', '.', 'O')]\n"
          ],
          "name": "stdout"
        }
      ]
    },
    {
      "cell_type": "code",
      "metadata": {
        "id": "N6k9lz1tM7Va",
        "colab_type": "code",
        "colab": {}
      },
      "source": [
        "# Getting all the sentences in the dataset.\n",
        "sentences = getter.sentences"
      ],
      "execution_count": 13,
      "outputs": []
    },
    {
      "cell_type": "code",
      "metadata": {
        "id": "VhzJ20GYXYN2",
        "colab_type": "code",
        "colab": {
          "base_uri": "https://localhost:8080/",
          "height": 279
        },
        "outputId": "6607fca9-c709-42bd-b128-387c67a5bc1b"
      },
      "source": [
        "# Length of the sentences as histograms\n",
        "plt.hist([len(s) for s in sentences],bins= 50)\n",
        "plt.xlabel(\"Length of Sentences\")\n",
        "plt.show()"
      ],
      "execution_count": 14,
      "outputs": [
        {
          "output_type": "display_data",
          "data": {
            "image/png": "[encoded data removed]",
            "text/plain": [
              "<Figure size 432x288 with 1 Axes>"
            ]
          },
          "metadata": {
            "tags": [],
            "needs_background": "light"
          }
        }
      ]
    },
    {
      "cell_type": "markdown",
      "metadata": {
        "id": "uUhTPNu3F1nS",
        "colab_type": "text"
      },
      "source": [
        "### Parameters for LSTM Model"
      ]
    },
    {
      "cell_type": "code",
      "metadata": {
        "id": "htLpItBgM-aX",
        "colab_type": "code",
        "colab": {}
      },
      "source": [
        "# Number of data points passed in each iteration\n",
        "batch_size = 64 \n",
        "# Passes through entire dataset\n",
        "epochs = 5\n",
        "# Maximum length of review\n",
        "max_len = 75 \n",
        "# Dimension of embedding vector\n",
        "embedding = 40\n",
        "# LSTM units\n",
        "LSTM_N = 50"
      ],
      "execution_count": 15,
      "outputs": []
    },
    {
      "cell_type": "markdown",
      "metadata": {
        "id": "rMfOo2vMF_Kj",
        "colab_type": "text"
      },
      "source": [
        "### Data Preprocessing"
      ]
    },
    {
      "cell_type": "code",
      "metadata": {
        "id": "T1oUhEAdNKix",
        "colab_type": "code",
        "colab": {}
      },
      "source": [
        "# Getting unique words and labels from data\n",
        "words = list(df['Word'].unique())\n",
        "tags = list(df['Tag'].unique())\n",
        "\n",
        "# Dictionary word:index pair\n",
        "# word is key and its value is corresponding index\n",
        "word_to_index = {w : i + 2 for i, w in enumerate(words)}\n",
        "word_to_index[\"IND\"] = 1\n",
        "word_to_index[\"PAD\"] = 0\n",
        "\n",
        "# Dictionary lable:index pair\n",
        "# label is key and value is index.\n",
        "tag_to_index = {t : i + 1 for i, t in enumerate(tags)}\n",
        "tag_to_index[\"PAD\"] = 0\n",
        "\n",
        "idx2word = {i: w for w, i in word_to_index.items()}\n",
        "idx2tag = {i: w for w, i in tag_to_index.items()}"
      ],
      "execution_count": 16,
      "outputs": []
    },
    {
      "cell_type": "code",
      "metadata": {
        "id": "zwCIm_gjNWOW",
        "colab_type": "code",
        "colab": {
          "base_uri": "https://localhost:8080/",
          "height": 51
        },
        "outputId": "c0717833-08a8-45a3-aa5e-40cb55470f4f"
      },
      "source": [
        "print(\"The word Google is identified by the index: {}\".format(word_to_index[\"Google\"]))\n",
        "print(\"The label B-org for the organization is identified by the index: {}\".format(tag_to_index[\"B-org\"]))"
      ],
      "execution_count": 17,
      "outputs": [
        {
          "output_type": "stream",
          "text": [
            "The word Google is identified by the index: 4417\n",
            "The label B-org for the organization is identified by the index: 6\n"
          ],
          "name": "stdout"
        }
      ]
    },
    {
      "cell_type": "code",
      "metadata": {
        "id": "f1P0HZw-NY58",
        "colab_type": "code",
        "colab": {}
      },
      "source": [
        "# Converting each sentence into list of index from list of tokens\n",
        "X = [[word_to_index[w[0]] for w in s] for s in sentences]"
      ],
      "execution_count": 18,
      "outputs": []
    },
    {
      "cell_type": "code",
      "metadata": {
        "id": "wp4zrRIJNbNj",
        "colab_type": "code",
        "colab": {}
      },
      "source": [
        "# Padding each sequence to have same length of each word\n",
        "X = pad_sequences(maxlen = max_len, sequences = X, padding = \"post\", value = word_to_index[\"PAD\"])"
      ],
      "execution_count": 19,
      "outputs": []
    },
    {
      "cell_type": "code",
      "metadata": {
        "id": "zYMUSIIwNdjw",
        "colab_type": "code",
        "colab": {}
      },
      "source": [
        "# Convert label to index\n",
        "y = [[tag_to_index[w[2]] for w in s] for s in sentences]\n",
        "\n",
        "# padding\n",
        "y = pad_sequences(maxlen = max_len, sequences = y, padding = \"post\", value = tag_to_index[\"PAD\"])"
      ],
      "execution_count": 20,
      "outputs": []
    },
    {
      "cell_type": "code",
      "metadata": {
        "id": "ZMmAsAjiNgjN",
        "colab_type": "code",
        "colab": {}
      },
      "source": [
        "num_tag = df['Tag'].nunique()\n",
        "\n",
        "# One hot encoded labels\n",
        "y = [to_categorical(i, num_classes = num_tag + 1) for i in y]"
      ],
      "execution_count": 21,
      "outputs": []
    },
    {
      "cell_type": "markdown",
      "metadata": {
        "id": "bVXkN2VHGGZh",
        "colab_type": "text"
      },
      "source": [
        "### Train and Test Set split"
      ]
    },
    {
      "cell_type": "code",
      "metadata": {
        "id": "6Wx5764bNjTy",
        "colab_type": "code",
        "colab": {}
      },
      "source": [
        "X_train, X_test, y_train, y_test = train_test_split(X, y, test_size = 0.15)"
      ],
      "execution_count": 22,
      "outputs": []
    },
    {
      "cell_type": "code",
      "metadata": {
        "id": "-Lmh40qSNm39",
        "colab_type": "code",
        "colab": {
          "base_uri": "https://localhost:8080/",
          "height": 85
        },
        "outputId": "eeb89017-b829-4b34-a43e-d6e5c2210e36"
      },
      "source": [
        "print(\"Size of training input data : \", X_train.shape)\n",
        "print(\"Size of training output data : \", np.array(y_train).shape)\n",
        "print(\"Size of testing input data : \", X_test.shape)\n",
        "print(\"Size of testing output data : \", np.array(y_test).shape)"
      ],
      "execution_count": 23,
      "outputs": [
        {
          "output_type": "stream",
          "text": [
            "Size of training input data :  (40765, 75)\n",
            "Size of training output data :  (40765, 75, 18)\n",
            "Size of testing input data :  (7194, 75)\n",
            "Size of testing output data :  (7194, 75, 18)\n"
          ],
          "name": "stdout"
        }
      ]
    },
    {
      "cell_type": "markdown",
      "metadata": {
        "id": "hyobZivwGQXE",
        "colab_type": "text"
      },
      "source": [
        "### Sentence and the labels representation before and after preprocessing"
      ]
    },
    {
      "cell_type": "code",
      "metadata": {
        "id": "9O5Ajd0pNqhp",
        "colab_type": "code",
        "colab": {
          "base_uri": "https://localhost:8080/",
          "height": 170
        },
        "outputId": "9310d981-e6b8-4b60-de12-d9d0cf131944"
      },
      "source": [
        "# Let's check the first sentence before and after processing.\n",
        "print('================ Before Processing first sentence: =============\\n', ' '.join([w[0] for w in sentences[0]]))\n",
        "print('\\n\\n================ After Processing first sentence: ==============\\n ', X[0])"
      ],
      "execution_count": 24,
      "outputs": [
        {
          "output_type": "stream",
          "text": [
            "================ Before Processing first sentence: =============\n",
            " Thousands of demonstrators have marched through London to protest the war in Iraq and demand the withdrawal of British troops from that country .\n",
            "\n",
            "\n",
            "================ After Processing first sentence: ==============\n",
            "  [ 2  3  4  5  6  7  8  9 10 11 12 13 14 15 16 11 17  3 18 19 20 21 22 23\n",
            "  0  0  0  0  0  0  0  0  0  0  0  0  0  0  0  0  0  0  0  0  0  0  0  0\n",
            "  0  0  0  0  0  0  0  0  0  0  0  0  0  0  0  0  0  0  0  0  0  0  0  0\n",
            "  0  0  0]\n"
          ],
          "name": "stdout"
        }
      ]
    },
    {
      "cell_type": "code",
      "metadata": {
        "id": "gp5ZumCONtJc",
        "colab_type": "code",
        "colab": {
          "base_uri": "https://localhost:8080/",
          "height": 221
        },
        "outputId": "5f87399b-d684-4a20-9e4c-21aa6755ff17"
      },
      "source": [
        "# First label before and after processing.\n",
        "print('================= Before Processing first sentence: =================\\n', ' '.join([w[2] for w in sentences[0]]))\n",
        "print('\\n\\n================= After Processing first sentence: ==================\\n ', y[0])"
      ],
      "execution_count": 25,
      "outputs": [
        {
          "output_type": "stream",
          "text": [
            "================= Before Processing first sentence: =================\n",
            " O O O O O O B-geo O O O O O B-geo O O O O O B-gpe O O O O O\n",
            "\n",
            "\n",
            "================= After Processing first sentence: ==================\n",
            "  [[0. 1. 0. ... 0. 0. 0.]\n",
            " [0. 1. 0. ... 0. 0. 0.]\n",
            " [0. 1. 0. ... 0. 0. 0.]\n",
            " ...\n",
            " [1. 0. 0. ... 0. 0. 0.]\n",
            " [1. 0. 0. ... 0. 0. 0.]\n",
            " [1. 0. 0. ... 0. 0. 0.]]\n"
          ],
          "name": "stdout"
        }
      ]
    },
    {
      "cell_type": "markdown",
      "metadata": {
        "id": "eBH5GaRtGuEh",
        "colab_type": "text"
      },
      "source": [
        "### Model Architecture"
      ]
    },
    {
      "cell_type": "code",
      "metadata": {
        "id": "1T_bNe1KNvrC",
        "colab_type": "code",
        "colab": {
          "base_uri": "https://localhost:8080/",
          "height": 289
        },
        "outputId": "e2217f9d-de27-4c60-9aeb-b645bd7dcc02"
      },
      "source": [
        "\n",
        "num_tags = df['Tag'].nunique()\n",
        "\n",
        "# max_len dimensional word indices as input\n",
        "input = Input(shape=(max_len,))\n",
        " \n",
        "# Embedding layer of 40 length output (40 dim embedding will be generated)\n",
        "model = Embedding(input_dim = len(words) + 2, output_dim = embedding, input_length = max_len)(input)\n",
        " \n",
        "# Bidirectional LSTM to learn from both forward as well as backward context\n",
        "model = Bidirectional(LSTM(units=LSTM_N, return_sequences=True, recurrent_dropout=0.1))(model)\n",
        " \n",
        "# Adding a TimeDistributedDense, to applying a Dense layer on each max_len timesteps\n",
        "out = TimeDistributed(Dense(num_tags+1, activation=\"softmax\"))(model) # softmax output layer\n",
        "model = Model(input, out)\n",
        "model.summary() \n"
      ],
      "execution_count": 26,
      "outputs": [
        {
          "output_type": "stream",
          "text": [
            "Model: \"functional_1\"\n",
            "_________________________________________________________________\n",
            "Layer (type)                 Output Shape              Param #   \n",
            "=================================================================\n",
            "input_1 (InputLayer)         [(None, 75)]              0         \n",
            "_________________________________________________________________\n",
            "embedding (Embedding)        (None, 75, 40)            1407200   \n",
            "_________________________________________________________________\n",
            "bidirectional (Bidirectional (None, 75, 100)           36400     \n",
            "_________________________________________________________________\n",
            "time_distributed (TimeDistri (None, 75, 18)            1818      \n",
            "=================================================================\n",
            "Total params: 1,445,418\n",
            "Trainable params: 1,445,418\n",
            "Non-trainable params: 0\n",
            "_________________________________________________________________\n"
          ],
          "name": "stdout"
        }
      ]
    },
    {
      "cell_type": "code",
      "metadata": {
        "id": "A2I_ACw9OF0o",
        "colab_type": "code",
        "colab": {}
      },
      "source": [
        "model.compile(optimizer=\"adam\", loss=\"categorical_crossentropy\", metrics=[\"accuracy\"])\n"
      ],
      "execution_count": 27,
      "outputs": []
    },
    {
      "cell_type": "code",
      "metadata": {
        "id": "LzpsUj68OOGp",
        "colab_type": "code",
        "colab": {
          "base_uri": "https://localhost:8080/",
          "height": 357
        },
        "outputId": "ce6aa33b-bc6d-4de5-b044-f5d4f92c81ba"
      },
      "source": [
        "checkpointer = ModelCheckpoint(filepath = '/content/drive/My Drive/Edureka ML/NLP from Machine Learning University/NER/model_BiLSTM.h5',\n",
        "                       verbose = 0,\n",
        "                       mode = 'auto',\n",
        "                       save_best_only = True,\n",
        "                       monitor='val_loss')\n",
        "\n",
        "history = model.fit(X_train, np.array(y_train), batch_size=batch_size, epochs=10, validation_split=0.1, callbacks=[checkpointer])"
      ],
      "execution_count": 28,
      "outputs": [
        {
          "output_type": "stream",
          "text": [
            "Epoch 1/10\n",
            "574/574 [==============================] - 105s 184ms/step - loss: 0.2979 - accuracy: 0.9352 - val_loss: 0.1020 - val_accuracy: 0.9703\n",
            "Epoch 2/10\n",
            "574/574 [==============================] - 106s 185ms/step - loss: 0.0664 - accuracy: 0.9824 - val_loss: 0.0473 - val_accuracy: 0.9872\n",
            "Epoch 3/10\n",
            "574/574 [==============================] - 106s 185ms/step - loss: 0.0363 - accuracy: 0.9900 - val_loss: 0.0375 - val_accuracy: 0.9891\n",
            "Epoch 4/10\n",
            "574/574 [==============================] - 106s 186ms/step - loss: 0.0275 - accuracy: 0.9920 - val_loss: 0.0349 - val_accuracy: 0.9896\n",
            "Epoch 5/10\n",
            "574/574 [==============================] - 106s 185ms/step - loss: 0.0229 - accuracy: 0.9931 - val_loss: 0.0338 - val_accuracy: 0.9898\n",
            "Epoch 6/10\n",
            "574/574 [==============================] - 105s 183ms/step - loss: 0.0198 - accuracy: 0.9939 - val_loss: 0.0349 - val_accuracy: 0.9899\n",
            "Epoch 7/10\n",
            "574/574 [==============================] - 104s 182ms/step - loss: 0.0174 - accuracy: 0.9946 - val_loss: 0.0349 - val_accuracy: 0.9901\n",
            "Epoch 8/10\n",
            "574/574 [==============================] - 105s 183ms/step - loss: 0.0156 - accuracy: 0.9951 - val_loss: 0.0368 - val_accuracy: 0.9901\n",
            "Epoch 9/10\n",
            "574/574 [==============================] - 105s 183ms/step - loss: 0.0140 - accuracy: 0.9956 - val_loss: 0.0379 - val_accuracy: 0.9899\n",
            "Epoch 10/10\n",
            "574/574 [==============================] - 104s 182ms/step - loss: 0.0125 - accuracy: 0.9960 - val_loss: 0.0394 - val_accuracy: 0.9898\n"
          ],
          "name": "stdout"
        }
      ]
    },
    {
      "cell_type": "code",
      "metadata": {
        "id": "NMecvcy4OUDE",
        "colab_type": "code",
        "colab": {
          "base_uri": "https://localhost:8080/",
          "height": 34
        },
        "outputId": "e17ae8af-b461-40d8-ebec-84436dafd7c2"
      },
      "source": [
        "history.history.keys()"
      ],
      "execution_count": 29,
      "outputs": [
        {
          "output_type": "execute_result",
          "data": {
            "text/plain": [
              "dict_keys(['loss', 'accuracy', 'val_loss', 'val_accuracy'])"
            ]
          },
          "metadata": {
            "tags": []
          },
          "execution_count": 29
        }
      ]
    },
    {
      "cell_type": "markdown",
      "metadata": {
        "id": "HLgnHEOFG1Tt",
        "colab_type": "text"
      },
      "source": [
        "### Plotting Training and Validation Accuracy"
      ]
    },
    {
      "cell_type": "code",
      "metadata": {
        "id": "9UMLuDkFQfEt",
        "colab_type": "code",
        "colab": {
          "base_uri": "https://localhost:8080/",
          "height": 516
        },
        "outputId": "ec6b3fc5-8d78-44de-a202-16d5e89ab242"
      },
      "source": [
        "acc = history.history['accuracy']\n",
        "val_acc = history.history['val_accuracy']\n",
        "loss = history.history['loss']\n",
        "val_loss = history.history['val_loss']\n",
        "plt.figure(figsize = (8, 8))\n",
        "epochs = range(1, len(acc) + 1)\n",
        "plt.plot(epochs, acc, 'bo', label='Training acc')\n",
        "plt.plot(epochs, val_acc, 'b', label='Validation acc')\n",
        "plt.title('Training and validation accuracy')\n",
        "plt.legend()"
      ],
      "execution_count": 30,
      "outputs": [
        {
          "output_type": "execute_result",
          "data": {
            "text/plain": [
              "<matplotlib.legend.Legend at 0x7f66b9ce9198>"
            ]
          },
          "metadata": {
            "tags": []
          },
          "execution_count": 30
        },
        {
          "output_type": "display_data",
          "data": {
            "image/png": "[encoded data removed]",
            "text/plain": [
              "<Figure size 576x576 with 1 Axes>"
            ]
          },
          "metadata": {
            "tags": [],
            "needs_background": "light"
          }
        }
      ]
    },
    {
      "cell_type": "markdown",
      "metadata": {
        "id": "qQNG0ZYJG8YC",
        "colab_type": "text"
      },
      "source": [
        "### Plotting Training and Validation Loss"
      ]
    },
    {
      "cell_type": "code",
      "metadata": {
        "id": "z2g1nYJlQiIx",
        "colab_type": "code",
        "colab": {
          "base_uri": "https://localhost:8080/",
          "height": 499
        },
        "outputId": "d4176bfc-b013-4229-d10d-c52c8d34fbaf"
      },
      "source": [
        "plt.figure(figsize = (8, 8))\n",
        "plt.plot(epochs, loss, 'bo', label='Training loss')\n",
        "plt.plot(epochs, val_loss, 'b', label='Validation loss')\n",
        "plt.title('Training and validation loss')\n",
        "plt.legend()\n",
        "plt.show()"
      ],
      "execution_count": 31,
      "outputs": [
        {
          "output_type": "display_data",
          "data": {
            "image/png": "[encoded data removed]",
            "text/plain": [
              "<Figure size 576x576 with 1 Axes>"
            ]
          },
          "metadata": {
            "tags": [],
            "needs_background": "light"
          }
        }
      ]
    },
    {
      "cell_type": "markdown",
      "metadata": {
        "id": "WCjumcJsHPDu",
        "colab_type": "text"
      },
      "source": [
        "### Model Evaluation & Testing Score"
      ]
    },
    {
      "cell_type": "code",
      "metadata": {
        "id": "IW1RrNOnQkDW",
        "colab_type": "code",
        "colab": {}
      },
      "source": [
        "# Evaluation\n",
        "y_pred = model.predict(X_test)\n",
        "y_pred = np.argmax(y_pred, axis=-1)\n",
        "y_test_true = np.argmax(y_test, -1)"
      ],
      "execution_count": 32,
      "outputs": []
    },
    {
      "cell_type": "code",
      "metadata": {
        "id": "3Mkr84JZSV-6",
        "colab_type": "code",
        "colab": {}
      },
      "source": [
        "# Convert the index to tag\n",
        "y_pred = [[idx2tag[i] for i in row] for row in y_pred]\n",
        "y_test_true = [[idx2tag[i] for i in row] for row in y_test_true]"
      ],
      "execution_count": 33,
      "outputs": []
    },
    {
      "cell_type": "code",
      "metadata": {
        "id": "ehKHa_ZOHJgU",
        "colab_type": "code",
        "colab": {
          "base_uri": "https://localhost:8080/",
          "height": 34
        },
        "outputId": "0e75aa9e-8f5e-4cd1-dbba-c11e3a93f204"
      },
      "source": [
        "print(\"F1-score is : {:.1%}\".format(f1_score(y_test_true, y_pred)))"
      ],
      "execution_count": 34,
      "outputs": [
        {
          "output_type": "stream",
          "text": [
            "F1-score is : 85.8%\n"
          ],
          "name": "stdout"
        }
      ]
    },
    {
      "cell_type": "code",
      "metadata": {
        "id": "F0_WJ50qHM0p",
        "colab_type": "code",
        "colab": {
          "base_uri": "https://localhost:8080/",
          "height": 442
        },
        "outputId": "72497020-f24a-4efa-a504-f10d675b3c09"
      },
      "source": [
        "report = flat_classification_report(y_pred=y_pred, y_true=y_test_true)\n",
        "print(report)"
      ],
      "execution_count": 35,
      "outputs": [
        {
          "output_type": "stream",
          "text": [
            "              precision    recall  f1-score   support\n",
            "\n",
            "       B-art       0.15      0.03      0.05        63\n",
            "       B-eve       0.67      0.35      0.46        57\n",
            "       B-geo       0.86      0.86      0.86      5603\n",
            "       B-gpe       0.96      0.93      0.94      2433\n",
            "       B-nat       0.43      0.15      0.22        40\n",
            "       B-org       0.74      0.71      0.73      3028\n",
            "       B-per       0.83      0.80      0.81      2538\n",
            "       B-tim       0.92      0.87      0.90      3149\n",
            "       I-art       0.14      0.05      0.07        42\n",
            "       I-eve       0.47      0.16      0.23        45\n",
            "       I-geo       0.79      0.78      0.78      1061\n",
            "       I-gpe       0.71      0.37      0.49        27\n",
            "       I-nat       0.00      0.00      0.00         7\n",
            "       I-org       0.80      0.72      0.76      2598\n",
            "       I-per       0.84      0.85      0.85      2566\n",
            "       I-tim       0.81      0.76      0.78      1014\n",
            "           O       0.99      0.99      0.99    134211\n",
            "         PAD       1.00      1.00      1.00    381068\n",
            "\n",
            "    accuracy                           0.99    539550\n",
            "   macro avg       0.67      0.58      0.61    539550\n",
            "weighted avg       0.99      0.99      0.99    539550\n",
            "\n"
          ],
          "name": "stdout"
        }
      ]
    },
    {
      "cell_type": "markdown",
      "metadata": {
        "id": "GsoFjrjuHYYv",
        "colab_type": "text"
      },
      "source": [
        "### Model Testing and Representation"
      ]
    },
    {
      "cell_type": "code",
      "metadata": {
        "id": "outc9IcZSeRj",
        "colab_type": "code",
        "colab": {
          "base_uri": "https://localhost:8080/",
          "height": 357
        },
        "outputId": "affbbc8d-c4e3-4a1c-9476-e3e1dd131d5d"
      },
      "source": [
        "# At every execution model picks some random test sample from test set.\n",
        "i = np.random.randint(0,X_test.shape[0]) # choose a random number between 0 and len(X_te)b\n",
        "\n",
        "p = model.predict(np.array([X_test[i]]))\n",
        "p = np.argmax(p, axis=-1)\n",
        "true = np.argmax(y_test[i], -1)\n",
        "\n",
        "print(\"Sample number {} of {} (Test Set)\".format(i, X_test.shape[0]))\n",
        "\n",
        "# Visualization\n",
        "print(\"{:15}||{:5}||{}\".format(\"Word\", \"True\", \"Pred\"))\n",
        "print(30 * \"=\")\n",
        "\n",
        "for w, t, pred in zip(X_test[i], true, p[0]):\n",
        "    if w != 0:\n",
        "        print(\"{:15}: {:5} {}\".format(words[w-2], idx2tag[t], idx2tag[pred]))"
      ],
      "execution_count": 36,
      "outputs": [
        {
          "output_type": "stream",
          "text": [
            "Sample number 3113 of 7194 (Test Set)\n",
            "Word           ||True ||Pred\n",
            "==============================\n",
            "Haitian        : B-gpe B-gpe\n",
            "authorities    : O     O\n",
            "found          : O     O\n",
            "the            : O     O\n",
            "body           : O     O\n",
            "of             : O     O\n",
            "Mr.            : B-per B-per\n",
            "Roche          : I-per I-per\n",
            "last           : O     O\n",
            "week           : O     O\n",
            ",              : O     O\n",
            "days           : O     O\n",
            "after          : O     O\n",
            "gunmen         : O     O\n",
            "abducted       : O     O\n",
            "him            : O     O\n",
            ".              : O     O\n"
          ],
          "name": "stdout"
        }
      ]
    },
    {
      "cell_type": "markdown",
      "metadata": {
        "id": "cybUfdbWHg09",
        "colab_type": "text"
      },
      "source": [
        "### Model Loading & Retrival"
      ]
    },
    {
      "cell_type": "code",
      "metadata": {
        "id": "RhGwTBZjTecF",
        "colab_type": "code",
        "colab": {}
      },
      "source": [
        "reconstructed_model = keras.models.load_model(\"/content/drive/My Drive/Edureka ML/NLP from Machine Learning University/NER/model_BiLSTM.h5\")"
      ],
      "execution_count": 37,
      "outputs": []
    },
    {
      "cell_type": "code",
      "metadata": {
        "id": "nI6B4PNXTnIm",
        "colab_type": "code",
        "colab": {
          "base_uri": "https://localhost:8080/",
          "height": 85
        },
        "outputId": "56351c24-3ae1-4118-af7a-c1278a75dc4c"
      },
      "source": [
        "pred = reconstructed_model.predict(X_test)\n",
        "print(\"Predicted Probabilities on Test Set:\\n\",pred.shape)\n",
        "# taking tag class with maximum probability\n",
        "pred_index = np.argmax(pred, axis=-1)\n",
        "print(\"Predicted tag indices: \\n\",pred_index.shape)"
      ],
      "execution_count": 38,
      "outputs": [
        {
          "output_type": "stream",
          "text": [
            "Predicted Probabilities on Test Set:\n",
            " (7194, 75, 18)\n",
            "Predicted tag indices: \n",
            " (7194, 75)\n"
          ],
          "name": "stdout"
        }
      ]
    },
    {
      "cell_type": "code",
      "metadata": {
        "id": "Y77m3jGATuOl",
        "colab_type": "code",
        "colab": {
          "base_uri": "https://localhost:8080/",
          "height": 510
        },
        "outputId": "a7b06576-a133-475f-f390-b3733f72aa99"
      },
      "source": [
        "# At every execution model picks some random test sample from test set.\n",
        "i = np.random.randint(0,X_test.shape[0]) # choose a random number between 0 and len(X_te)b\n",
        "p = reconstructed_model.predict(np.array([X_test[i]]))\n",
        "p = np.argmax(p, axis=-1)\n",
        "true = np.argmax(y_test[i], -1)\n",
        "\n",
        "print(\"Sample number {} of {} (Test Set)\".format(i, X_test.shape[0]))\n",
        "# Visualization\n",
        "print(\"{:15}||{:5}||{}\".format(\"Word\", \"True\", \"Pred\"))\n",
        "print(30 * \"=\")\n",
        "for w, t, pred in zip(X_test[i], true, p[0]):\n",
        "    if w != 0:\n",
        "        print(\"{:15}: {:5} {}\".format(words[w-2], idx2tag[t], idx2tag[pred]))"
      ],
      "execution_count": 39,
      "outputs": [
        {
          "output_type": "stream",
          "text": [
            "Sample number 2109 of 7194 (Test Set)\n",
            "Word           ||True ||Pred\n",
            "==============================\n",
            "For            : O     O\n",
            "the            : O     O\n",
            "last           : O     O\n",
            "leg            : O     O\n",
            "of             : O     O\n",
            "his            : O     O\n",
            "South          : O     B-geo\n",
            "American       : B-gpe B-gpe\n",
            "trip           : O     O\n",
            ",              : O     O\n",
            "Mr.            : B-per B-per\n",
            "Zapatero       : I-per I-per\n",
            "is             : O     O\n",
            "scheduled      : O     O\n",
            "to             : O     O\n",
            "fly            : O     O\n",
            "to             : O     O\n",
            "Chile          : B-geo B-geo\n",
            "Wednesday      : B-tim B-tim\n",
            "to             : O     O\n",
            "meet           : O     O\n",
            "with           : O     O\n",
            "President      : B-per B-per\n",
            "Ricardo        : I-per I-per\n",
            "Lagos          : I-per I-per\n",
            ".              : O     O\n"
          ],
          "name": "stdout"
        }
      ]
    },
    {
      "cell_type": "code",
      "metadata": {
        "id": "uvb56ZWqUuPY",
        "colab_type": "code",
        "colab": {
          "base_uri": "https://localhost:8080/",
          "height": 34
        },
        "outputId": "3f88095f-19e1-4ad7-9ea3-99ff390ee2e5"
      },
      "source": [
        "\n",
        "X_test.shape"
      ],
      "execution_count": 40,
      "outputs": [
        {
          "output_type": "execute_result",
          "data": {
            "text/plain": [
              "(7194, 75)"
            ]
          },
          "metadata": {
            "tags": []
          },
          "execution_count": 40
        }
      ]
    },
    {
      "cell_type": "code",
      "metadata": {
        "id": "KXivrR2VY8oF",
        "colab_type": "code",
        "colab": {}
      },
      "source": [
        "#3108"
      ],
      "execution_count": 41,
      "outputs": []
    },
    {
      "cell_type": "code",
      "metadata": {
        "id": "kripjcJ2xq2e",
        "colab_type": "code",
        "colab": {}
      },
      "source": [
        ""
      ],
      "execution_count": 41,
      "outputs": []
    },
    {
      "cell_type": "markdown",
      "metadata": {
        "id": "pCbVMmr7Hv_X",
        "colab_type": "text"
      },
      "source": [
        "### Reading some sentences, doing their preprocesing and predictions on them to find their security and securities as per the rules using symbols.csv given file\n",
        "\n",
        "There are two sentences in the test data. We will find their security and securities as per the given rules."
      ]
    },
    {
      "cell_type": "code",
      "metadata": {
        "id": "nfxMBD-5xrAg",
        "colab_type": "code",
        "colab": {}
      },
      "source": [
        "test_data = pd.read_csv(\"/content/drive/My Drive/Edureka ML/NLP from Machine Learning University/NER/test_data.csv\")"
      ],
      "execution_count": 42,
      "outputs": []
    },
    {
      "cell_type": "code",
      "metadata": {
        "id": "EiBwB-BhySnK",
        "colab_type": "code",
        "colab": {
          "base_uri": "https://localhost:8080/",
          "height": 204
        },
        "outputId": "316118e2-7355-426e-fdb1-974772a97ccb"
      },
      "source": [
        "test_data.head(5)"
      ],
      "execution_count": 43,
      "outputs": [
        {
          "output_type": "execute_result",
          "data": {
            "text/html": [
              "<div>\n",
              "<style scoped>\n",
              "    .dataframe tbody tr th:only-of-type {\n",
              "        vertical-align: middle;\n",
              "    }\n",
              "\n",
              "    .dataframe tbody tr th {\n",
              "        vertical-align: top;\n",
              "    }\n",
              "\n",
              "    .dataframe thead th {\n",
              "        text-align: right;\n",
              "    }\n",
              "</style>\n",
              "<table border=\"1\" class=\"dataframe\">\n",
              "  <thead>\n",
              "    <tr style=\"text-align: right;\">\n",
              "      <th></th>\n",
              "      <th>Unnamed: 0</th>\n",
              "      <th>Sentence #</th>\n",
              "      <th>Word</th>\n",
              "      <th>POS</th>\n",
              "      <th>Tag</th>\n",
              "    </tr>\n",
              "  </thead>\n",
              "  <tbody>\n",
              "    <tr>\n",
              "      <th>0</th>\n",
              "      <td>0</td>\n",
              "      <td>Sentence: 1</td>\n",
              "      <td>Apple</td>\n",
              "      <td>NNP</td>\n",
              "      <td>B-org</td>\n",
              "    </tr>\n",
              "    <tr>\n",
              "      <th>1</th>\n",
              "      <td>1</td>\n",
              "      <td>Sentence: 1</td>\n",
              "      <td>,</td>\n",
              "      <td>IN</td>\n",
              "      <td>O</td>\n",
              "    </tr>\n",
              "    <tr>\n",
              "      <th>2</th>\n",
              "      <td>2</td>\n",
              "      <td>Sentence: 1</td>\n",
              "      <td>Amazon</td>\n",
              "      <td>NNP</td>\n",
              "      <td>B-org</td>\n",
              "    </tr>\n",
              "    <tr>\n",
              "      <th>3</th>\n",
              "      <td>3</td>\n",
              "      <td>Sentence: 1</td>\n",
              "      <td>and</td>\n",
              "      <td>CC</td>\n",
              "      <td>O</td>\n",
              "    </tr>\n",
              "    <tr>\n",
              "      <th>4</th>\n",
              "      <td>4</td>\n",
              "      <td>Sentence: 1</td>\n",
              "      <td>Microsoft</td>\n",
              "      <td>NNP</td>\n",
              "      <td>B-org</td>\n",
              "    </tr>\n",
              "  </tbody>\n",
              "</table>\n",
              "</div>"
            ],
            "text/plain": [
              "   Unnamed: 0   Sentence #       Word  POS    Tag\n",
              "0           0  Sentence: 1      Apple  NNP  B-org\n",
              "1           1  Sentence: 1          ,   IN      O\n",
              "2           2  Sentence: 1     Amazon  NNP  B-org\n",
              "3           3  Sentence: 1        and   CC      O\n",
              "4           4  Sentence: 1  Microsoft  NNP  B-org"
            ]
          },
          "metadata": {
            "tags": []
          },
          "execution_count": 43
        }
      ]
    },
    {
      "cell_type": "code",
      "metadata": {
        "id": "cDTEEstGyUTJ",
        "colab_type": "code",
        "colab": {}
      },
      "source": [
        "# Process test data and make predictions and find security and securities"
      ],
      "execution_count": 44,
      "outputs": []
    },
    {
      "cell_type": "code",
      "metadata": {
        "id": "clG4v_5KAE9b",
        "colab_type": "code",
        "colab": {}
      },
      "source": [
        "# Creating a vocabulary\n",
        "words = list(set(test_data[\"Word\"].values))\n",
        "words.append(\"ENDPAD\")\n",
        "\n",
        "word_to_index = {w : i + 2 for i, w in enumerate(words)}\n",
        "word_to_index[\"IND\"] = 1\n",
        "word_to_index[\"PAD\"] = 0\n",
        "\n",
        "idx2word = {i: w for w, i in word_to_index.items()}"
      ],
      "execution_count": 45,
      "outputs": []
    },
    {
      "cell_type": "code",
      "metadata": {
        "id": "tTfTqB152kSF",
        "colab_type": "code",
        "colab": {
          "base_uri": "https://localhost:8080/",
          "height": 578
        },
        "outputId": "eb050508-557f-4ac7-9b9a-2e9208313492"
      },
      "source": [
        "getter = sentence(test_data)\n",
        "sentences = getter.sentences\n",
        "sentences"
      ],
      "execution_count": 46,
      "outputs": [
        {
          "output_type": "execute_result",
          "data": {
            "text/plain": [
              "[[('Apple', 'NNP', 'B-org'),\n",
              "  (',', 'IN', 'O'),\n",
              "  ('Amazon', 'NNP', 'B-org'),\n",
              "  ('and', 'CC', 'O'),\n",
              "  ('Microsoft', 'NNP', 'B-org'),\n",
              "  ('are', 'VBP', 'O'),\n",
              "  ('reporting', 'VBG', 'O'),\n",
              "  ('earnings', 'NN', 'O'),\n",
              "  ('after', 'IN', 'O'),\n",
              "  ('market', 'NNS', 'O'),\n",
              "  ('close', 'VB', 'O'),\n",
              "  ('on', 'IN', 'O'),\n",
              "  ('April', 'NNP', 'B-tim'),\n",
              "  ('30th', 'DT', 'I-time'),\n",
              "  ('.', '.', 'O')],\n",
              " [('Apple', 'NNP', 'B-org'),\n",
              "  ('and', 'CC', 'O'),\n",
              "  ('Amazon', 'NNP', 'B-org'),\n",
              "  ('started', 'JJ', 'O'),\n",
              "  ('working', 'VBG', 'O'),\n",
              "  ('on', 'IN', 'O'),\n",
              "  ('COVID-19', 'NN', 'O'),\n",
              "  ('tracing', 'NN', 'O'),\n",
              "  ('application', 'NNP', 'O'),\n",
              "  ('.', '.', 'O'),\n",
              "  ('AAPL', 'NNP', 'B-org'),\n",
              "  ('stock', 'NN', 'O'),\n",
              "  ('went', 'VBD', 'O'),\n",
              "  ('up', 'RP', 'O'),\n",
              "  ('by', 'IN', 'O'),\n",
              "  ('1', 'NN', 'O'),\n",
              "  ('%', 'DT', 'O'),\n",
              "  ('.', '.', 'O')]]"
            ]
          },
          "metadata": {
            "tags": []
          },
          "execution_count": 46
        }
      ]
    },
    {
      "cell_type": "code",
      "metadata": {
        "id": "vAzI7Xwx9H7S",
        "colab_type": "code",
        "colab": {
          "base_uri": "https://localhost:8080/",
          "height": 279
        },
        "outputId": "a9d77699-9a09-44a6-ff67-a26e8f4a1b25"
      },
      "source": [
        "plt.hist([len(s) for s in sentences],bins= 50)\n",
        "plt.xlabel(\"Length of Sentences\")\n",
        "plt.show()"
      ],
      "execution_count": 47,
      "outputs": [
        {
          "output_type": "display_data",
          "data": {
            "image/png": "[encoded data removed]",
            "text/plain": [
              "<Figure size 432x288 with 1 Axes>"
            ]
          },
          "metadata": {
            "tags": [],
            "needs_background": "light"
          }
        }
      ]
    },
    {
      "cell_type": "code",
      "metadata": {
        "id": "2_DRqji99PiK",
        "colab_type": "code",
        "colab": {
          "base_uri": "https://localhost:8080/",
          "height": 34
        },
        "outputId": "55654a06-050f-4c29-c8ca-23090f06fdc1"
      },
      "source": [
        "Xtest = [[word_to_index[w[0]] for w in s] for s in sentences]\n",
        "# Padding each sequence to have same length  of each word\n",
        "Xtest = pad_sequences(maxlen = max_len, sequences = Xtest, padding = \"post\", value = word_to_index[\"PAD\"])\n",
        "\n",
        "Xtest.shape"
      ],
      "execution_count": 48,
      "outputs": [
        {
          "output_type": "execute_result",
          "data": {
            "text/plain": [
              "(2, 75)"
            ]
          },
          "metadata": {
            "tags": []
          },
          "execution_count": 48
        }
      ]
    },
    {
      "cell_type": "code",
      "metadata": {
        "id": "2gbGKQMe8hYg",
        "colab_type": "code",
        "colab": {}
      },
      "source": [
        "tags = list(test_data['Tag'].unique())\n",
        "\n",
        "tag_to_index = {t : i + 1 for i, t in enumerate(tags)}\n",
        "tag_to_index[\"PAD\"] = 0\n",
        "\n",
        "idx2tag = {i: w for w, i in tag_to_index.items()}\n",
        "\n",
        "# Convert label to index\n",
        "ytest = [[tag_to_index[w[2]] for w in s] for s in sentences]\n",
        "# padding\n",
        "ytest = pad_sequences(maxlen = max_len, sequences = ytest, padding = \"post\", value = tag_to_index[\"PAD\"])\n",
        "\n",
        "num_tag = df['Tag'].nunique()\n",
        "# One hot encoded labels\n",
        "ytest = [to_categorical(i, num_classes = num_tag + 1) for i in ytest]"
      ],
      "execution_count": 49,
      "outputs": []
    },
    {
      "cell_type": "code",
      "metadata": {
        "id": "wuh92zbi_ltH",
        "colab_type": "code",
        "colab": {
          "base_uri": "https://localhost:8080/",
          "height": 170
        },
        "outputId": "18087f47-6e19-48e1-fbd9-6ec93bf4958b"
      },
      "source": [
        "# Let's check the first sentence before and after processing.\n",
        "print('================Before Processing first sentence : =============\\n', ' '.join([w[0] for w in sentences[0]]))\n",
        "print('\\n\\n================After Processing first sentence : ==============\\n ', Xtest[0])"
      ],
      "execution_count": 58,
      "outputs": [
        {
          "output_type": "stream",
          "text": [
            "================Before Processing first sentence : =============\n",
            " Apple , Amazon and Microsoft are reporting earnings after market close on April 30th .\n",
            "\n",
            "\n",
            "================After Processing first sentence : ==============\n",
            "  [ 5 17 13 21 11 26  3  4 23 10  8 20  7 18 16  0  0  0  0  0  0  0  0  0\n",
            "  0  0  0  0  0  0  0  0  0  0  0  0  0  0  0  0  0  0  0  0  0  0  0  0\n",
            "  0  0  0  0  0  0  0  0  0  0  0  0  0  0  0  0  0  0  0  0  0  0  0  0\n",
            "  0  0  0]\n"
          ],
          "name": "stdout"
        }
      ]
    },
    {
      "cell_type": "code",
      "metadata": {
        "id": "vPgW5GK3CJ7B",
        "colab_type": "code",
        "colab": {
          "base_uri": "https://localhost:8080/",
          "height": 85
        },
        "outputId": "e1cdbe07-3aee-4334-86af-48e6471a60ea"
      },
      "source": [
        "pred = reconstructed_model.predict(Xtest)\n",
        "print(\"Predicted Probabilities on Test Set:\\n\",pred.shape)\n",
        "# taking tag class with maximum probability\n",
        "pred_index = np.argmax(pred, axis=-1)\n",
        "print(\"Predicted tag indices: \\n\",pred_index.shape)"
      ],
      "execution_count": 51,
      "outputs": [
        {
          "output_type": "stream",
          "text": [
            "Predicted Probabilities on Test Set:\n",
            " (2, 75, 18)\n",
            "Predicted tag indices: \n",
            " (2, 75)\n"
          ],
          "name": "stdout"
        }
      ]
    },
    {
      "cell_type": "code",
      "metadata": {
        "id": "uE84TzpiL0bu",
        "colab_type": "code",
        "colab": {}
      },
      "source": [
        "# security => 1. Most Common or 2. 1st one if 2 or more have same number or 3. if article name = any company name then that becomes security.\n",
        "# security and securities are only printed in ticker forms."
      ],
      "execution_count": 52,
      "outputs": []
    },
    {
      "cell_type": "code",
      "metadata": {
        "id": "2AQagkH9L3P0",
        "colab_type": "code",
        "colab": {}
      },
      "source": [
        "# ALGORITHM\n",
        "# 1. Convert all the securities into the ticker forms from the given csv files of symbols\n",
        "# 2. find the most common one and first one if there are more than one having same number\n",
        "# 3. return security find in step 2"
      ],
      "execution_count": 53,
      "outputs": []
    },
    {
      "cell_type": "code",
      "metadata": {
        "id": "gJ9qN30K0w0t",
        "colab_type": "code",
        "colab": {}
      },
      "source": [
        "def security(i):\n",
        "  l = []\n",
        "  \n",
        "  pred = reconstructed_model.predict(np.array([Xtest[i]]))\n",
        "  pred = np.argmax(pred, axis=-1) \n",
        "  true = np.argmax(ytest[i], -1)   \n",
        "\n",
        "  for w, p in zip(Xtest[i], true):\n",
        "    if w!= 0 and p!= 0  and idx2tag[p][-3:] == \"org\":\n",
        "      l.append(words[w-2])   \n",
        "\n",
        "  df = pd.read_csv(\"/content/drive/My Drive/Edureka ML/NLP from Machine Learning University/NER/symbols.csv\")\n",
        "  #df.drop(columns = ['Unnamed: 0', 'Unnamed: 0.1'], inplace = True)\n",
        "  \n",
        "  securities = []\n",
        "  for i in range(len(l)):\n",
        "    for index, row in df.iterrows():\n",
        "      if l[i] == row[\"symbol\"]:\n",
        "        securities.append(row[\"symbol\"])\n",
        "      else:\n",
        "        if (row[\"company\"].find(l[i]) != -1):\n",
        "          securities.append(row[\"symbol\"])  \n",
        "\n",
        "  security = []\n",
        "  # Create a panda DataFrame using the list securities\n",
        "  dff=pd.DataFrame({'Number': securities})\n",
        "  security.append(dff.Number.mode()[0])\n",
        "  print(\"security:\",security)\n",
        "  print(\"securities: \",securities)\n",
        "\n",
        "  # Data to be written   \n",
        "  dictionary ={   \n",
        "    \"security\": security ,  \n",
        "    \"securities\": securities  \n",
        "  }   \n",
        "       \n",
        "  # Serializing json for Json representation with two attributes security and securities  \n",
        "  print(\"\\n\") \n",
        "  json_object = json.dumps(dictionary, indent = 4)   \n",
        "  print(json_object)\n",
        "\n",
        "\n",
        "def sentence_representation(i):\n",
        "  #Displaying one full sentence\n",
        "  getter = sentence(test_data)\n",
        "  sentences = [\" \".join([s[0] for s in sent]) for sent in getter.sentences]\n",
        "  print(sentences[i])\n",
        "  return \"\\n\""
      ],
      "execution_count": 54,
      "outputs": []
    },
    {
      "cell_type": "code",
      "metadata": {
        "id": "idRGnyr56vTE",
        "colab_type": "code",
        "colab": {
          "base_uri": "https://localhost:8080/",
          "height": 272
        },
        "outputId": "67d0a4f3-cd58-45f8-badd-3e3f30b89e47"
      },
      "source": [
        "sentence_representation(0)\n",
        "security(0)"
      ],
      "execution_count": 55,
      "outputs": [
        {
          "output_type": "stream",
          "text": [
            "Apple , Amazon and Microsoft are reporting earnings after market close on April 30th .\n",
            "security: ['AAPL']\n",
            "securities:  ['AAPL', 'AMZN', 'MSFT']\n",
            "\n",
            "\n",
            "{\n",
            "    \"security\": [\n",
            "        \"AAPL\"\n",
            "    ],\n",
            "    \"securities\": [\n",
            "        \"AAPL\",\n",
            "        \"AMZN\",\n",
            "        \"MSFT\"\n",
            "    ]\n",
            "}\n"
          ],
          "name": "stdout"
        }
      ]
    },
    {
      "cell_type": "code",
      "metadata": {
        "id": "5XsyPRTJ8KO4",
        "colab_type": "code",
        "colab": {
          "base_uri": "https://localhost:8080/",
          "height": 272
        },
        "outputId": "5d6f940d-5a1d-4dcd-dd1a-4f26c430f4e6"
      },
      "source": [
        "sentence_representation(1)\n",
        "security(1)"
      ],
      "execution_count": 56,
      "outputs": [
        {
          "output_type": "stream",
          "text": [
            "Apple and Amazon started working on COVID-19 tracing application . AAPL stock went up by 1 % .\n",
            "security: ['AAPL']\n",
            "securities:  ['AAPL', 'AMZN', 'AAPL']\n",
            "\n",
            "\n",
            "{\n",
            "    \"security\": [\n",
            "        \"AAPL\"\n",
            "    ],\n",
            "    \"securities\": [\n",
            "        \"AAPL\",\n",
            "        \"AMZN\",\n",
            "        \"AAPL\"\n",
            "    ]\n",
            "}\n"
          ],
          "name": "stdout"
        }
      ]
    },
    {
      "cell_type": "code",
      "metadata": {
        "id": "7Xv_LXUe9JSV",
        "colab_type": "code",
        "colab": {}
      },
      "source": [
        "# THANK YOU!"
      ],
      "execution_count": 57,
      "outputs": []
    },
    {
      "cell_type": "code",
      "metadata": {
        "id": "ebMwvamHDDgv",
        "colab_type": "code",
        "colab": {}
      },
      "source": [
        ""
      ],
      "execution_count": 57,
      "outputs": []
    }
  ]
}