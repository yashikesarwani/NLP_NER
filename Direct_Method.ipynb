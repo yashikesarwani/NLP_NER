{
  "nbformat": 4,
  "nbformat_minor": 0,
  "metadata": {
    "colab": {
      "name": "Direct_Method.ipynb",
      "provenance": [],
      "mount_file_id": "1bdIc9kieJOD4tVulTQGnnfCKi2xSbh7W",
      "authorship_tag": "ABX9TyNb6SgVZx63LGBzbyr/MZa6",
      "include_colab_link": true
    },
    "kernelspec": {
      "name": "python3",
      "display_name": "Python 3"
    }
  },
  "cells": [
    {
      "cell_type": "markdown",
      "metadata": {
        "id": "view-in-github",
        "colab_type": "text"
      },
      "source": [
        "<a href=\"https://colab.research.google.com/github/yashikesarwani/NLP_NER/blob/master/Direct_Method.ipynb\" target=\"_parent\"><img src=\"https://colab.research.google.com/assets/colab-badge.svg\" alt=\"Open In Colab\"/></a>"
      ]
    },
    {
      "cell_type": "code",
      "metadata": {
        "id": "iWw9ZvCTiVur",
        "colab_type": "code",
        "colab": {}
      },
      "source": [
        "import spacy\n",
        "from spacy import displacy\n",
        "import pandas as pd\n",
        "import json\n",
        "from collections import Counter\n",
        "import en_core_web_sm\n",
        "nlp = en_core_web_sm.load()"
      ],
      "execution_count": 1,
      "outputs": []
    },
    {
      "cell_type": "code",
      "metadata": {
        "id": "bP-BrgQckLe3",
        "colab_type": "code",
        "colab": {}
      },
      "source": [
        "# ALGORITHM\n",
        "# 1. Convert all the securities into the ticker forms from the given csv files of symbols\n",
        "# 2. find the most common one and first one if there are more than one having same number\n",
        "# 3. return security find in step "
      ],
      "execution_count": 2,
      "outputs": []
    },
    {
      "cell_type": "code",
      "metadata": {
        "id": "5ane9NwIQ_vU",
        "colab_type": "code",
        "colab": {}
      },
      "source": [
        "di = { 'sentence1': \"Apple, Amazon and Microsoft are reporting earnings after market close on April 30th.\", 'sentence2': \"Apple is one of the best company and AAPL stock went up on this Sunday wherease GOOG stock went down\"}\n"
      ],
      "execution_count": 3,
      "outputs": []
    },
    {
      "cell_type": "code",
      "metadata": {
        "id": "24Nc3zbolIia",
        "colab_type": "code",
        "colab": {}
      },
      "source": [
        "def security(sentence):\n",
        "  doc = nlp(sentence)\n",
        "  req = [[X.text, X.label_] for X in doc.ents]\n",
        "  print(req)\n",
        "\n",
        "  n = len(req)\n",
        "  l = []\n",
        "  for i in range(n):\n",
        "    #if req[i][1] == 'ORG':\n",
        "    l.append(req[i][0])\n",
        "  l\n",
        "  df = pd.read_csv(\"/content/drive/My Drive/Edureka ML/NLP from Machine Learning University/NER/symbols.csv\")\n",
        "  #df.drop(columns = ['Unnamed: 0', 'Unnamed: 0.1'], inplace = True)\n",
        "  securities = []\n",
        "  for i in range(len(l)):\n",
        "    for index, row in df.iterrows():\n",
        "      if l[i] == row[\"symbol\"]:\n",
        "        securities.append(row[\"symbol\"])\n",
        "      else:\n",
        "        if (row[\"company\"].find(l[i]) != -1):\n",
        "          securities.append(row[\"symbol\"])  \n",
        "\n",
        "  security = []\n",
        "  # Create a panda DataFrame using the list securities\n",
        "  dff=pd.DataFrame({'Number': securities})\n",
        "  security.append(dff.Number.mode()[0])\n",
        "  print(\"security:\",security)\n",
        "  print(\"securities: \",securities)\n",
        "\n",
        "  # Data to be written   \n",
        "  dictionary ={   \n",
        "    \"security\": security ,  \n",
        "    \"securities\": securities  \n",
        "  }   \n",
        "       \n",
        "  # Serializing json for Json representation with two attributes security and securities  \n",
        "  print(\"\\n\") \n",
        "  json_object = json.dumps(dictionary, indent = 4)   \n",
        "  print(json_object)\n"
      ],
      "execution_count": 4,
      "outputs": []
    },
    {
      "cell_type": "code",
      "metadata": {
        "id": "bHBHpaBbRJdt",
        "colab_type": "code",
        "colab": {
          "base_uri": "https://localhost:8080/",
          "height": 272
        },
        "outputId": "e310c1c6-9aed-435c-8f82-64d3c0a877b8"
      },
      "source": [
        "security(di[\"sentence1\"])"
      ],
      "execution_count": 5,
      "outputs": [
        {
          "output_type": "stream",
          "text": [
            "[['Apple', 'ORG'], ['Amazon', 'ORG'], ['Microsoft', 'ORG'], ['April 30th', 'DATE']]\n",
            "security: ['AAPL']\n",
            "securities:  ['AAPL', 'AMZN', 'MSFT']\n",
            "\n",
            "\n",
            "{\n",
            "    \"security\": [\n",
            "        \"AAPL\"\n",
            "    ],\n",
            "    \"securities\": [\n",
            "        \"AAPL\",\n",
            "        \"AMZN\",\n",
            "        \"MSFT\"\n",
            "    ]\n",
            "}\n"
          ],
          "name": "stdout"
        }
      ]
    },
    {
      "cell_type": "code",
      "metadata": {
        "id": "mOjTix_4SYRb",
        "colab_type": "code",
        "colab": {
          "base_uri": "https://localhost:8080/",
          "height": 272
        },
        "outputId": "8c7eefd1-65b2-4164-99b4-b122317404f0"
      },
      "source": [
        "security(di['sentence2'])"
      ],
      "execution_count": 6,
      "outputs": [
        {
          "output_type": "stream",
          "text": [
            "[['Apple', 'ORG'], ['AAPL', 'ORG'], ['this Sunday', 'DATE'], ['GOOG', 'ORG']]\n",
            "security: ['AAPL']\n",
            "securities:  ['AAPL', 'AAPL', 'GOOG']\n",
            "\n",
            "\n",
            "{\n",
            "    \"security\": [\n",
            "        \"AAPL\"\n",
            "    ],\n",
            "    \"securities\": [\n",
            "        \"AAPL\",\n",
            "        \"AAPL\",\n",
            "        \"GOOG\"\n",
            "    ]\n",
            "}\n"
          ],
          "name": "stdout"
        }
      ]
    },
    {
      "cell_type": "code",
      "metadata": {
        "id": "oC8Df6QAToAH",
        "colab_type": "code",
        "colab": {}
      },
      "source": [
        ""
      ],
      "execution_count": 6,
      "outputs": []
    }
  ]
}